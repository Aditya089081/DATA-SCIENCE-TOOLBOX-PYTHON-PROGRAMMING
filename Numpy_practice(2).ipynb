{
  "nbformat": 4,
  "nbformat_minor": 0,
  "metadata": {
    "colab": {
      "provenance": [],
      "authorship_tag": "ABX9TyOt5g2Ustx9swyqfU0pnTdb",
      "include_colab_link": true
    },
    "kernelspec": {
      "name": "python3",
      "display_name": "Python 3"
    },
    "language_info": {
      "name": "python"
    }
  },
  "cells": [
    {
      "cell_type": "markdown",
      "metadata": {
        "id": "view-in-github",
        "colab_type": "text"
      },
      "source": [
        "<a href=\"https://colab.research.google.com/github/Aditya089081/DATA-SCIENCE-TOOLBOX-PYTHON-PROGRAMMING/blob/main/Numpy_practice(2).ipynb\" target=\"_parent\"><img src=\"https://colab.research.google.com/assets/colab-badge.svg\" alt=\"Open In Colab\"/></a>"
      ]
    },
    {
      "cell_type": "code",
      "execution_count": 2,
      "metadata": {
        "colab": {
          "base_uri": "https://localhost:8080/"
        },
        "id": "_smlbN3hFw3g",
        "outputId": "88543fd2-3bc8-414b-d38a-38acb286ad27"
      },
      "outputs": [
        {
          "output_type": "stream",
          "name": "stdout",
          "text": [
            "[[1. 1. 1. 1. 1.]]\n",
            "[[5 5 5 5 5]]\n"
          ]
        }
      ],
      "source": [
        "import numpy as np\n",
        "a1 = np.array([1,2,3,4,5,6,7])\n",
        "a2 = np.array([3,4,5,6,7,8,9])\n",
        "a3 = np.ones((1,5));\n",
        "print(a3)\n",
        "a4 = np.full((1,5),5)\n",
        "print(a4)\n"
      ]
    },
    {
      "cell_type": "code",
      "source": [
        "a5 = np.arange(10,20,2)\n",
        "print(a5)\n",
        "a6 = np.random.randint(1,100,(2,3))\n",
        "a6.shape = (2,3)\n",
        "print(a6)\n"
      ],
      "metadata": {
        "colab": {
          "base_uri": "https://localhost:8080/"
        },
        "id": "WSJVC1mmHENp",
        "outputId": "f31dbcd1-2352-4cb1-afa8-083d4881577c"
      },
      "execution_count": 13,
      "outputs": [
        {
          "output_type": "stream",
          "name": "stdout",
          "text": [
            "[10 12 14 16 18]\n",
            "[[13 52  5]\n",
            " [ 9 39 55]]\n"
          ]
        }
      ]
    },
    {
      "cell_type": "code",
      "source": [
        "a7 = np.vstack((a1,a2))\n",
        "print(a7)\n",
        "a8 = np.hstack((a1,a2))\n",
        "print(a8)"
      ],
      "metadata": {
        "colab": {
          "base_uri": "https://localhost:8080/"
        },
        "id": "zeP9mz_8IAoT",
        "outputId": "5b67bbda-7356-4c26-a2b3-30108585b060"
      },
      "execution_count": 16,
      "outputs": [
        {
          "output_type": "stream",
          "name": "stdout",
          "text": [
            "[[1 2 3 4 5 6 7]\n",
            " [3 4 5 6 7 8 9]]\n",
            "[1 2 3 4 5 6 7 3 4 5 6 7 8 9]\n"
          ]
        }
      ]
    },
    {
      "cell_type": "code",
      "source": [
        "a9 = np.column_stack((a1,a2))\n",
        "print(a9)"
      ],
      "metadata": {
        "colab": {
          "base_uri": "https://localhost:8080/"
        },
        "id": "u7vV_2m9IeGG",
        "outputId": "a2ca9675-df80-4761-dc44-b0facf4b9871"
      },
      "execution_count": 21,
      "outputs": [
        {
          "output_type": "stream",
          "name": "stdout",
          "text": [
            "[[1 3]\n",
            " [2 4]\n",
            " [3 5]\n",
            " [4 6]\n",
            " [5 7]\n",
            " [6 8]\n",
            " [7 9]]\n"
          ]
        }
      ]
    },
    {
      "cell_type": "code",
      "source": [
        "a11 = np.intersect1d(a1,a2)\n",
        "print(a11)\n",
        "a22 = np.setdiff1d(a1,a2)\n",
        "print(a22)\n",
        "a33 = np.sum((a1))\n",
        "print(a33)\n",
        "a44 = np.sum((a1,a2))\n",
        "print(a44)\n",
        "# a55 = np.sum((a1,a2),axis=0)\n",
        "a66 = a1+a2\n",
        "print(a66)\n"
      ],
      "metadata": {
        "colab": {
          "base_uri": "https://localhost:8080/"
        },
        "id": "O7udG2PWJRUA",
        "outputId": "a92624c2-3fe6-42df-bf47-4d7aaafb3da4"
      },
      "execution_count": 37,
      "outputs": [
        {
          "output_type": "stream",
          "name": "stdout",
          "text": [
            "[3 4 5 6 7]\n",
            "[1 2]\n",
            "28\n",
            "70\n",
            "[ 4  6  8 10 12 14 16]\n"
          ]
        }
      ]
    },
    {
      "cell_type": "code",
      "source": [
        "# a1 = a1+1\n",
        "# a1 = a1-1\n",
        "print(a1)\n"
      ],
      "metadata": {
        "colab": {
          "base_uri": "https://localhost:8080/"
        },
        "id": "hpyr9fEaK2xl",
        "outputId": "05b7bab0-493c-45ac-d909-afacc5b6ceab"
      },
      "execution_count": 42,
      "outputs": [
        {
          "output_type": "stream",
          "name": "stdout",
          "text": [
            "[1 2 3 4 5 6 7]\n"
          ]
        }
      ]
    },
    {
      "cell_type": "code",
      "source": [
        "a77 = np.mean(a1)\n",
        "print(a77)\n",
        "a88 = np.median(a1)\n",
        "print(a88)\n",
        "a99 = np.std(a1)\n",
        "print(a99)"
      ],
      "metadata": {
        "colab": {
          "base_uri": "https://localhost:8080/"
        },
        "id": "dDK2eokPLaYh",
        "outputId": "e2634b7b-2d19-47be-f240-b8c43752003d"
      },
      "execution_count": 48,
      "outputs": [
        {
          "output_type": "stream",
          "name": "stdout",
          "text": [
            "4.0\n",
            "4.0\n",
            "2.0\n"
          ]
        }
      ]
    },
    {
      "cell_type": "code",
      "source": [
        "np.save('name',a1)\n",
        "a111 = np.load('name.npy')\n",
        "print(a111)"
      ],
      "metadata": {
        "colab": {
          "base_uri": "https://localhost:8080/"
        },
        "id": "8mLQCUGIL-fK",
        "outputId": "581dcad1-ffe7-4a36-a3f4-6eed81bbb46f"
      },
      "execution_count": 50,
      "outputs": [
        {
          "output_type": "stream",
          "name": "stdout",
          "text": [
            "[1 2 3 4 5 6 7]\n"
          ]
        }
      ]
    }
  ]
}