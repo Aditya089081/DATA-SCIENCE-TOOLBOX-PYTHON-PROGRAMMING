{
  "cells": [
    {
      "cell_type": "markdown",
      "metadata": {
        "id": "view-in-github",
        "colab_type": "text"
      },
      "source": [
        "<a href=\"https://colab.research.google.com/github/Aditya089081/DATA-SCIENCE-TOOLBOX-PYTHON-PROGRAMMING/blob/main/Practise_Basic(1)_csv.ipynb\" target=\"_parent\"><img src=\"https://colab.research.google.com/assets/colab-badge.svg\" alt=\"Open In Colab\"/></a>"
      ]
    },
    {
      "cell_type": "code",
      "source": [
        "                                                                 #  PYTHON PRACTICE (1 - FEB - 2025)"
      ],
      "metadata": {
        "id": "qHbzhXRJ0f8M"
      },
      "execution_count": 1,
      "outputs": []
    },
    {
      "cell_type": "code",
      "source": [
        "# 1. variable\n",
        "# '''\n",
        "# A = 23\n",
        "# print(type(A))\n",
        "# a = 2+3j\n",
        "# type(a)\n",
        "# '''\n",
        "# #  2. comment\n",
        "# # we use '#' or multiline (''' or \"\"\")\n",
        "\n",
        "# '''\n",
        "# arithimatic operator = +,-,/,*\n",
        "# relastional operator = >,<,==,!=\n",
        "# logical operator = & , |\n",
        "# '''\n",
        "# python tokens = a smallest meaningfull component in a program.\n",
        "# literals = constants\n",
        "# a= \"start\"\n",
        "# print(a[:])\n",
        "# print(a.lower())\n",
        "# print(a.upper())\n",
        "# print(a.replace('s','b'))\n",
        "# print(a.count('s'))\n",
        "# print(a.find('t'))\n",
        "# a.split('s')"
      ],
      "metadata": {
        "id": "7cVjLm2T11ak"
      },
      "execution_count": 58,
      "outputs": []
    },
    {
      "cell_type": "code",
      "source": [
        "tup1 = (1,2,3,3,54)\n",
        "# # tup = (1,2,3,3,54)\n",
        "# tup = [1,2,3,3,54]\n",
        "# tup.append(34)\n",
        "# tup.insert(0,100)\n",
        "# print(tup)\n",
        "# tup.reverse()"
      ],
      "metadata": {
        "id": "2WT20sf68bvV"
      },
      "execution_count": 59,
      "outputs": []
    },
    {
      "cell_type": "code",
      "source": [
        "# dict1 = {\"name\":\"Aditya\",\n",
        "#         \"class\": \"12th\",\n",
        "#         \"subject\": \"Python\"}\n",
        "# print(dict1[\"name\"])\n",
        "# print(dict1.keys())\n",
        "# print(dict1.values())\n",
        "# dict1[\"roll no\"] = 31\n",
        "# print(dict1)\n",
        "# # dict1.update({\"na\":\"Aditya\"})\n",
        "# print(dict1)"
      ],
      "metadata": {
        "id": "tB7RQtyg9gKz"
      },
      "execution_count": 60,
      "outputs": []
    },
    {
      "cell_type": "code",
      "source": [
        "# set1 = {1,2,3,4,5,6}\n",
        "# print(set1)\n",
        "# set1.add(100)\n",
        "# print(set1)\n",
        "# set1.remove(100)\n",
        "# print(set1)\n"
      ],
      "metadata": {
        "id": "7dYuArzv-lt-"
      },
      "execution_count": 61,
      "outputs": []
    },
    {
      "cell_type": "code",
      "source": [
        "a = int(input(\"Enter year: \"))\n",
        "                                  # Leap year cecker\n",
        "if a%4==0:\n",
        "  if a%100==0:\n",
        "    if (a%400==0):\n",
        "      print(\"Leap year.\")\n",
        "    else:\n",
        "      print(\"Not Leap year.\")\n",
        "  else:\n",
        "    print(\"Leap year.\")\n",
        "else:\n",
        "  print(\"Not Leap year.\")"
      ],
      "metadata": {
        "id": "92Ej0bQj_dfV"
      },
      "execution_count": null,
      "outputs": []
    },
    {
      "cell_type": "code",
      "source": [
        "# i = 0\n",
        "# while(i<10):\n",
        "#   print(i)\n",
        "#   i+=1\n",
        "for i in tup1:\n",
        "  print(i)"
      ],
      "metadata": {
        "colab": {
          "base_uri": "https://localhost:8080/"
        },
        "id": "zNvjWiSbGb5l",
        "outputId": "e4273c7b-b5be-4c7e-807e-f110343271d8"
      },
      "execution_count": 73,
      "outputs": [
        {
          "output_type": "stream",
          "name": "stdout",
          "text": [
            "1\n",
            "2\n",
            "3\n",
            "3\n",
            "54\n"
          ]
        }
      ]
    }
  ],
  "metadata": {
    "colab": {
      "provenance": [],
      "include_colab_link": true
    },
    "kernelspec": {
      "display_name": "Python 3",
      "name": "python3"
    }
  },
  "nbformat": 4,
  "nbformat_minor": 0
}