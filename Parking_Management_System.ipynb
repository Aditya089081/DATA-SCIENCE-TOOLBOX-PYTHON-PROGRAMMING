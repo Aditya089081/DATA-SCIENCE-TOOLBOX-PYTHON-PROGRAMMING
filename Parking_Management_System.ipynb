{
  "cells": [
    {
      "cell_type": "markdown",
      "metadata": {
        "id": "view-in-github",
        "colab_type": "text"
      },
      "source": [
        "<a href=\"https://colab.research.google.com/github/Aditya089081/DATA-SCIENCE-TOOLBOX-PYTHON-PROGRAMMING/blob/main/Parking_Management_System.ipynb\" target=\"_parent\"><img src=\"https://colab.research.google.com/assets/colab-badge.svg\" alt=\"Open In Colab\"/></a>"
      ]
    },
    {
      "cell_type": "code",
      "source": [
        "# STEP 1: Import required libraries\n",
        "import pandas as pd\n",
        "\n",
        "# STEP 2: Load the Excel file\n",
        "file_path = '/content/car_parking_dataset.xlsx'  # Adjust if needed\n",
        "df = pd.read_excel(file_path)\n",
        "\n",
        "# STEP 3: Display the first few rows\n",
        "print(\"✅ Dataset Preview:\")\n",
        "print(df.head())\n"
      ],
      "metadata": {
        "colab": {
          "base_uri": "https://localhost:8080/",
          "height": 0
        },
        "id": "CmCzneiLC0rH",
        "outputId": "d8296b0c-a54a-4a4e-ee5d-b85ae5393340"
      },
      "execution_count": 1,
      "outputs": [
        {
          "output_type": "stream",
          "name": "stdout",
          "text": [
            "✅ Dataset Preview:\n",
            "   Entry_ID Vehicle_Number Vehicle_Type           Entry_Time  \\\n",
            "0         1     KA76GH9472          SUV  2025-03-26 15:46:00   \n",
            "1         2     TN16AB5030        Truck  2025-01-17 06:03:00   \n",
            "2         3     DL82EF5507          SUV  2025-01-19 14:10:00   \n",
            "3         4     TN21GH9009          Car  2025-02-23 07:43:00   \n",
            "4         5     TN78CD9741          Car  2025-02-07 07:11:00   \n",
            "\n",
            "             Exit_Time  Duration_Minutes Parking_Slot Parking_Level  \\\n",
            "0  2025-03-26 23:45:00               479     SLOT-150            L1   \n",
            "1  2025-01-17 07:14:00                71     SLOT-495            B2   \n",
            "2  2025-01-19 20:48:00               398     SLOT-393             G   \n",
            "3  2025-02-23 09:47:00               124      SLOT-27            B1   \n",
            "4  2025-02-07 13:11:00               360       SLOT-3            B2   \n",
            "\n",
            "  Payment_Status  Amount_Charged  \n",
            "0           Paid           335.3  \n",
            "1           Paid            71.0  \n",
            "2           Paid           278.6  \n",
            "3           Paid            62.0  \n",
            "4           Paid           180.0  \n"
          ]
        }
      ]
    },
    {
      "cell_type": "code",
      "source": [
        "# STEP 4: Check for basic information\n",
        "print(\"🧾 Dataset Info:\")\n",
        "print(df.info())\n",
        "\n",
        "# STEP 5: Check for missing values\n",
        "print(\"🕳️ Missing Values:\")\n",
        "print(df.isnull().sum())\n",
        "\n",
        "# STEP 6: Drop rows with missing values (if any)\n",
        "df.dropna(inplace=True)\n",
        "\n",
        "# STEP 7: Check for duplicates and drop them\n",
        "df.drop_duplicates(inplace=True)\n",
        "\n",
        "# STEP 8: Convert 'timestamp' column to datetime (if it exists)\n",
        "if 'timestamp' in df.columns:\n",
        "    df['timestamp'] = pd.to_datetime(df['timestamp'])\n",
        "\n",
        "# STEP 9: Ensure column types (like ID as string)\n",
        "if 'parking_lot_id' in df.columns:\n",
        "    df['parking_lot_id'] = df['parking_lot_id'].astype(str)\n",
        "\n",
        "# STEP 10: Final structure after cleaning\n",
        "print(\"✅ Cleaned Dataset Info:\")\n",
        "print(df.info())\n",
        "print(df.head())\n"
      ],
      "metadata": {
        "colab": {
          "base_uri": "https://localhost:8080/",
          "height": 0
        },
        "id": "U-RiojLuD462",
        "outputId": "9d0dec1c-b4a2-482a-d76c-89a4e29b0aaf"
      },
      "execution_count": 2,
      "outputs": [
        {
          "output_type": "stream",
          "name": "stdout",
          "text": [
            "🧾 Dataset Info:\n",
            "<class 'pandas.core.frame.DataFrame'>\n",
            "RangeIndex: 10000 entries, 0 to 9999\n",
            "Data columns (total 10 columns):\n",
            " #   Column            Non-Null Count  Dtype  \n",
            "---  ------            --------------  -----  \n",
            " 0   Entry_ID          10000 non-null  int64  \n",
            " 1   Vehicle_Number    10000 non-null  object \n",
            " 2   Vehicle_Type      10000 non-null  object \n",
            " 3   Entry_Time        10000 non-null  object \n",
            " 4   Exit_Time         10000 non-null  object \n",
            " 5   Duration_Minutes  10000 non-null  int64  \n",
            " 6   Parking_Slot      10000 non-null  object \n",
            " 7   Parking_Level     10000 non-null  object \n",
            " 8   Payment_Status    10000 non-null  object \n",
            " 9   Amount_Charged    10000 non-null  float64\n",
            "dtypes: float64(1), int64(2), object(7)\n",
            "memory usage: 781.4+ KB\n",
            "None\n",
            "🕳️ Missing Values:\n",
            "Entry_ID            0\n",
            "Vehicle_Number      0\n",
            "Vehicle_Type        0\n",
            "Entry_Time          0\n",
            "Exit_Time           0\n",
            "Duration_Minutes    0\n",
            "Parking_Slot        0\n",
            "Parking_Level       0\n",
            "Payment_Status      0\n",
            "Amount_Charged      0\n",
            "dtype: int64\n",
            "✅ Cleaned Dataset Info:\n",
            "<class 'pandas.core.frame.DataFrame'>\n",
            "RangeIndex: 10000 entries, 0 to 9999\n",
            "Data columns (total 10 columns):\n",
            " #   Column            Non-Null Count  Dtype  \n",
            "---  ------            --------------  -----  \n",
            " 0   Entry_ID          10000 non-null  int64  \n",
            " 1   Vehicle_Number    10000 non-null  object \n",
            " 2   Vehicle_Type      10000 non-null  object \n",
            " 3   Entry_Time        10000 non-null  object \n",
            " 4   Exit_Time         10000 non-null  object \n",
            " 5   Duration_Minutes  10000 non-null  int64  \n",
            " 6   Parking_Slot      10000 non-null  object \n",
            " 7   Parking_Level     10000 non-null  object \n",
            " 8   Payment_Status    10000 non-null  object \n",
            " 9   Amount_Charged    10000 non-null  float64\n",
            "dtypes: float64(1), int64(2), object(7)\n",
            "memory usage: 781.4+ KB\n",
            "None\n",
            "   Entry_ID Vehicle_Number Vehicle_Type           Entry_Time  \\\n",
            "0         1     KA76GH9472          SUV  2025-03-26 15:46:00   \n",
            "1         2     TN16AB5030        Truck  2025-01-17 06:03:00   \n",
            "2         3     DL82EF5507          SUV  2025-01-19 14:10:00   \n",
            "3         4     TN21GH9009          Car  2025-02-23 07:43:00   \n",
            "4         5     TN78CD9741          Car  2025-02-07 07:11:00   \n",
            "\n",
            "             Exit_Time  Duration_Minutes Parking_Slot Parking_Level  \\\n",
            "0  2025-03-26 23:45:00               479     SLOT-150            L1   \n",
            "1  2025-01-17 07:14:00                71     SLOT-495            B2   \n",
            "2  2025-01-19 20:48:00               398     SLOT-393             G   \n",
            "3  2025-02-23 09:47:00               124      SLOT-27            B1   \n",
            "4  2025-02-07 13:11:00               360       SLOT-3            B2   \n",
            "\n",
            "  Payment_Status  Amount_Charged  \n",
            "0           Paid           335.3  \n",
            "1           Paid            71.0  \n",
            "2           Paid           278.6  \n",
            "3           Paid            62.0  \n",
            "4           Paid           180.0  \n"
          ]
        }
      ]
    },
    {
      "cell_type": "code",
      "source": [
        "print(df.columns.tolist())\n"
      ],
      "metadata": {
        "colab": {
          "base_uri": "https://localhost:8080/",
          "height": 0
        },
        "id": "DUycwZ1kEZl-",
        "outputId": "1d5b042b-6b7a-4c7c-eca7-9e93b05b4a58"
      },
      "execution_count": 6,
      "outputs": [
        {
          "output_type": "stream",
          "name": "stdout",
          "text": [
            "['Entry_ID', 'Vehicle_Number', 'Vehicle_Type', 'Entry_Time', 'Exit_Time', 'Duration_Minutes', 'Parking_Slot', 'Parking_Level', 'Payment_Status', 'Amount_Charged']\n"
          ]
        }
      ]
    },
    {
      "cell_type": "code",
      "source": [
        "# Convert Entry_Time and Exit_Time to datetime\n",
        "df['Entry_Time'] = pd.to_datetime(df['Entry_Time'])\n",
        "df['Exit_Time'] = pd.to_datetime(df['Exit_Time'])\n",
        "\n",
        "# Extract features from Entry_Time\n",
        "df['entry_hour'] = df['Entry_Time'].dt.hour\n",
        "df['entry_day_of_week'] = df['Entry_Time'].dt.dayofweek\n",
        "df['is_weekend_entry'] = df['entry_day_of_week'].apply(lambda x: 1 if x >= 5 else 0)\n",
        "\n",
        "# Optional: Do the same for Exit_Time\n",
        "df['exit_hour'] = df['Exit_Time'].dt.hour\n",
        "df['exit_day_of_week'] = df['Exit_Time'].dt.dayofweek\n",
        "df['is_weekend_exit'] = df['exit_day_of_week'].apply(lambda x: 1 if x >= 5 else 0)\n",
        "\n",
        "# Preview updated dataframe\n",
        "df[['Entry_Time', 'entry_hour', 'entry_day_of_week', 'is_weekend_entry']].head()\n"
      ],
      "metadata": {
        "colab": {
          "base_uri": "https://localhost:8080/",
          "height": 206
        },
        "id": "1cqqEKn1EuNs",
        "outputId": "f727ec6d-fbc5-4fc3-ed11-0568ad5b80a3"
      },
      "execution_count": 7,
      "outputs": [
        {
          "output_type": "execute_result",
          "data": {
            "text/plain": [
              "           Entry_Time  entry_hour  entry_day_of_week  is_weekend_entry\n",
              "0 2025-03-26 15:46:00          15                  2                 0\n",
              "1 2025-01-17 06:03:00           6                  4                 0\n",
              "2 2025-01-19 14:10:00          14                  6                 1\n",
              "3 2025-02-23 07:43:00           7                  6                 1\n",
              "4 2025-02-07 07:11:00           7                  4                 0"
            ],
            "text/html": [
              "\n",
              "  <div id=\"df-b054306a-c038-47ac-b1c4-7531aae61c81\" class=\"colab-df-container\">\n",
              "    <div>\n",
              "<style scoped>\n",
              "    .dataframe tbody tr th:only-of-type {\n",
              "        vertical-align: middle;\n",
              "    }\n",
              "\n",
              "    .dataframe tbody tr th {\n",
              "        vertical-align: top;\n",
              "    }\n",
              "\n",
              "    .dataframe thead th {\n",
              "        text-align: right;\n",
              "    }\n",
              "</style>\n",
              "<table border=\"1\" class=\"dataframe\">\n",
              "  <thead>\n",
              "    <tr style=\"text-align: right;\">\n",
              "      <th></th>\n",
              "      <th>Entry_Time</th>\n",
              "      <th>entry_hour</th>\n",
              "      <th>entry_day_of_week</th>\n",
              "      <th>is_weekend_entry</th>\n",
              "    </tr>\n",
              "  </thead>\n",
              "  <tbody>\n",
              "    <tr>\n",
              "      <th>0</th>\n",
              "      <td>2025-03-26 15:46:00</td>\n",
              "      <td>15</td>\n",
              "      <td>2</td>\n",
              "      <td>0</td>\n",
              "    </tr>\n",
              "    <tr>\n",
              "      <th>1</th>\n",
              "      <td>2025-01-17 06:03:00</td>\n",
              "      <td>6</td>\n",
              "      <td>4</td>\n",
              "      <td>0</td>\n",
              "    </tr>\n",
              "    <tr>\n",
              "      <th>2</th>\n",
              "      <td>2025-01-19 14:10:00</td>\n",
              "      <td>14</td>\n",
              "      <td>6</td>\n",
              "      <td>1</td>\n",
              "    </tr>\n",
              "    <tr>\n",
              "      <th>3</th>\n",
              "      <td>2025-02-23 07:43:00</td>\n",
              "      <td>7</td>\n",
              "      <td>6</td>\n",
              "      <td>1</td>\n",
              "    </tr>\n",
              "    <tr>\n",
              "      <th>4</th>\n",
              "      <td>2025-02-07 07:11:00</td>\n",
              "      <td>7</td>\n",
              "      <td>4</td>\n",
              "      <td>0</td>\n",
              "    </tr>\n",
              "  </tbody>\n",
              "</table>\n",
              "</div>\n",
              "    <div class=\"colab-df-buttons\">\n",
              "\n",
              "  <div class=\"colab-df-container\">\n",
              "    <button class=\"colab-df-convert\" onclick=\"convertToInteractive('df-b054306a-c038-47ac-b1c4-7531aae61c81')\"\n",
              "            title=\"Convert this dataframe to an interactive table.\"\n",
              "            style=\"display:none;\">\n",
              "\n",
              "  <svg xmlns=\"http://www.w3.org/2000/svg\" height=\"24px\" viewBox=\"0 -960 960 960\">\n",
              "    <path d=\"M120-120v-720h720v720H120Zm60-500h600v-160H180v160Zm220 220h160v-160H400v160Zm0 220h160v-160H400v160ZM180-400h160v-160H180v160Zm440 0h160v-160H620v160ZM180-180h160v-160H180v160Zm440 0h160v-160H620v160Z\"/>\n",
              "  </svg>\n",
              "    </button>\n",
              "\n",
              "  <style>\n",
              "    .colab-df-container {\n",
              "      display:flex;\n",
              "      gap: 12px;\n",
              "    }\n",
              "\n",
              "    .colab-df-convert {\n",
              "      background-color: #E8F0FE;\n",
              "      border: none;\n",
              "      border-radius: 50%;\n",
              "      cursor: pointer;\n",
              "      display: none;\n",
              "      fill: #1967D2;\n",
              "      height: 32px;\n",
              "      padding: 0 0 0 0;\n",
              "      width: 32px;\n",
              "    }\n",
              "\n",
              "    .colab-df-convert:hover {\n",
              "      background-color: #E2EBFA;\n",
              "      box-shadow: 0px 1px 2px rgba(60, 64, 67, 0.3), 0px 1px 3px 1px rgba(60, 64, 67, 0.15);\n",
              "      fill: #174EA6;\n",
              "    }\n",
              "\n",
              "    .colab-df-buttons div {\n",
              "      margin-bottom: 4px;\n",
              "    }\n",
              "\n",
              "    [theme=dark] .colab-df-convert {\n",
              "      background-color: #3B4455;\n",
              "      fill: #D2E3FC;\n",
              "    }\n",
              "\n",
              "    [theme=dark] .colab-df-convert:hover {\n",
              "      background-color: #434B5C;\n",
              "      box-shadow: 0px 1px 3px 1px rgba(0, 0, 0, 0.15);\n",
              "      filter: drop-shadow(0px 1px 2px rgba(0, 0, 0, 0.3));\n",
              "      fill: #FFFFFF;\n",
              "    }\n",
              "  </style>\n",
              "\n",
              "    <script>\n",
              "      const buttonEl =\n",
              "        document.querySelector('#df-b054306a-c038-47ac-b1c4-7531aae61c81 button.colab-df-convert');\n",
              "      buttonEl.style.display =\n",
              "        google.colab.kernel.accessAllowed ? 'block' : 'none';\n",
              "\n",
              "      async function convertToInteractive(key) {\n",
              "        const element = document.querySelector('#df-b054306a-c038-47ac-b1c4-7531aae61c81');\n",
              "        const dataTable =\n",
              "          await google.colab.kernel.invokeFunction('convertToInteractive',\n",
              "                                                    [key], {});\n",
              "        if (!dataTable) return;\n",
              "\n",
              "        const docLinkHtml = 'Like what you see? Visit the ' +\n",
              "          '<a target=\"_blank\" href=https://colab.research.google.com/notebooks/data_table.ipynb>data table notebook</a>'\n",
              "          + ' to learn more about interactive tables.';\n",
              "        element.innerHTML = '';\n",
              "        dataTable['output_type'] = 'display_data';\n",
              "        await google.colab.output.renderOutput(dataTable, element);\n",
              "        const docLink = document.createElement('div');\n",
              "        docLink.innerHTML = docLinkHtml;\n",
              "        element.appendChild(docLink);\n",
              "      }\n",
              "    </script>\n",
              "  </div>\n",
              "\n",
              "\n",
              "<div id=\"df-eb79f27e-2cbc-406b-8c75-8b850571b9dd\">\n",
              "  <button class=\"colab-df-quickchart\" onclick=\"quickchart('df-eb79f27e-2cbc-406b-8c75-8b850571b9dd')\"\n",
              "            title=\"Suggest charts\"\n",
              "            style=\"display:none;\">\n",
              "\n",
              "<svg xmlns=\"http://www.w3.org/2000/svg\" height=\"24px\"viewBox=\"0 0 24 24\"\n",
              "     width=\"24px\">\n",
              "    <g>\n",
              "        <path d=\"M19 3H5c-1.1 0-2 .9-2 2v14c0 1.1.9 2 2 2h14c1.1 0 2-.9 2-2V5c0-1.1-.9-2-2-2zM9 17H7v-7h2v7zm4 0h-2V7h2v10zm4 0h-2v-4h2v4z\"/>\n",
              "    </g>\n",
              "</svg>\n",
              "  </button>\n",
              "\n",
              "<style>\n",
              "  .colab-df-quickchart {\n",
              "      --bg-color: #E8F0FE;\n",
              "      --fill-color: #1967D2;\n",
              "      --hover-bg-color: #E2EBFA;\n",
              "      --hover-fill-color: #174EA6;\n",
              "      --disabled-fill-color: #AAA;\n",
              "      --disabled-bg-color: #DDD;\n",
              "  }\n",
              "\n",
              "  [theme=dark] .colab-df-quickchart {\n",
              "      --bg-color: #3B4455;\n",
              "      --fill-color: #D2E3FC;\n",
              "      --hover-bg-color: #434B5C;\n",
              "      --hover-fill-color: #FFFFFF;\n",
              "      --disabled-bg-color: #3B4455;\n",
              "      --disabled-fill-color: #666;\n",
              "  }\n",
              "\n",
              "  .colab-df-quickchart {\n",
              "    background-color: var(--bg-color);\n",
              "    border: none;\n",
              "    border-radius: 50%;\n",
              "    cursor: pointer;\n",
              "    display: none;\n",
              "    fill: var(--fill-color);\n",
              "    height: 32px;\n",
              "    padding: 0;\n",
              "    width: 32px;\n",
              "  }\n",
              "\n",
              "  .colab-df-quickchart:hover {\n",
              "    background-color: var(--hover-bg-color);\n",
              "    box-shadow: 0 1px 2px rgba(60, 64, 67, 0.3), 0 1px 3px 1px rgba(60, 64, 67, 0.15);\n",
              "    fill: var(--button-hover-fill-color);\n",
              "  }\n",
              "\n",
              "  .colab-df-quickchart-complete:disabled,\n",
              "  .colab-df-quickchart-complete:disabled:hover {\n",
              "    background-color: var(--disabled-bg-color);\n",
              "    fill: var(--disabled-fill-color);\n",
              "    box-shadow: none;\n",
              "  }\n",
              "\n",
              "  .colab-df-spinner {\n",
              "    border: 2px solid var(--fill-color);\n",
              "    border-color: transparent;\n",
              "    border-bottom-color: var(--fill-color);\n",
              "    animation:\n",
              "      spin 1s steps(1) infinite;\n",
              "  }\n",
              "\n",
              "  @keyframes spin {\n",
              "    0% {\n",
              "      border-color: transparent;\n",
              "      border-bottom-color: var(--fill-color);\n",
              "      border-left-color: var(--fill-color);\n",
              "    }\n",
              "    20% {\n",
              "      border-color: transparent;\n",
              "      border-left-color: var(--fill-color);\n",
              "      border-top-color: var(--fill-color);\n",
              "    }\n",
              "    30% {\n",
              "      border-color: transparent;\n",
              "      border-left-color: var(--fill-color);\n",
              "      border-top-color: var(--fill-color);\n",
              "      border-right-color: var(--fill-color);\n",
              "    }\n",
              "    40% {\n",
              "      border-color: transparent;\n",
              "      border-right-color: var(--fill-color);\n",
              "      border-top-color: var(--fill-color);\n",
              "    }\n",
              "    60% {\n",
              "      border-color: transparent;\n",
              "      border-right-color: var(--fill-color);\n",
              "    }\n",
              "    80% {\n",
              "      border-color: transparent;\n",
              "      border-right-color: var(--fill-color);\n",
              "      border-bottom-color: var(--fill-color);\n",
              "    }\n",
              "    90% {\n",
              "      border-color: transparent;\n",
              "      border-bottom-color: var(--fill-color);\n",
              "    }\n",
              "  }\n",
              "</style>\n",
              "\n",
              "  <script>\n",
              "    async function quickchart(key) {\n",
              "      const quickchartButtonEl =\n",
              "        document.querySelector('#' + key + ' button');\n",
              "      quickchartButtonEl.disabled = true;  // To prevent multiple clicks.\n",
              "      quickchartButtonEl.classList.add('colab-df-spinner');\n",
              "      try {\n",
              "        const charts = await google.colab.kernel.invokeFunction(\n",
              "            'suggestCharts', [key], {});\n",
              "      } catch (error) {\n",
              "        console.error('Error during call to suggestCharts:', error);\n",
              "      }\n",
              "      quickchartButtonEl.classList.remove('colab-df-spinner');\n",
              "      quickchartButtonEl.classList.add('colab-df-quickchart-complete');\n",
              "    }\n",
              "    (() => {\n",
              "      let quickchartButtonEl =\n",
              "        document.querySelector('#df-eb79f27e-2cbc-406b-8c75-8b850571b9dd button');\n",
              "      quickchartButtonEl.style.display =\n",
              "        google.colab.kernel.accessAllowed ? 'block' : 'none';\n",
              "    })();\n",
              "  </script>\n",
              "</div>\n",
              "\n",
              "    </div>\n",
              "  </div>\n"
            ],
            "application/vnd.google.colaboratory.intrinsic+json": {
              "type": "dataframe",
              "summary": "{\n  \"name\": \"df[['Entry_Time', 'entry_hour', 'entry_day_of_week', 'is_weekend_entry']]\",\n  \"rows\": 5,\n  \"fields\": [\n    {\n      \"column\": \"Entry_Time\",\n      \"properties\": {\n        \"dtype\": \"date\",\n        \"min\": \"2025-01-17 06:03:00\",\n        \"max\": \"2025-03-26 15:46:00\",\n        \"num_unique_values\": 5,\n        \"samples\": [\n          \"2025-01-17 06:03:00\",\n          \"2025-02-07 07:11:00\",\n          \"2025-01-19 14:10:00\"\n        ],\n        \"semantic_type\": \"\",\n        \"description\": \"\"\n      }\n    },\n    {\n      \"column\": \"entry_hour\",\n      \"properties\": {\n        \"dtype\": \"int32\",\n        \"num_unique_values\": 4,\n        \"samples\": [\n          6,\n          7,\n          15\n        ],\n        \"semantic_type\": \"\",\n        \"description\": \"\"\n      }\n    },\n    {\n      \"column\": \"entry_day_of_week\",\n      \"properties\": {\n        \"dtype\": \"int32\",\n        \"num_unique_values\": 3,\n        \"samples\": [\n          2,\n          4,\n          6\n        ],\n        \"semantic_type\": \"\",\n        \"description\": \"\"\n      }\n    },\n    {\n      \"column\": \"is_weekend_entry\",\n      \"properties\": {\n        \"dtype\": \"number\",\n        \"std\": 0,\n        \"min\": 0,\n        \"max\": 1,\n        \"num_unique_values\": 2,\n        \"samples\": [\n          1,\n          0\n        ],\n        \"semantic_type\": \"\",\n        \"description\": \"\"\n      }\n    }\n  ]\n}"
            }
          },
          "metadata": {},
          "execution_count": 7
        }
      ]
    },
    {
      "cell_type": "code",
      "source": [
        "# df.drop(['Vehicle_Number'], axis=1, inplace=True)"
      ],
      "metadata": {
        "id": "6BPXre9iFOGr"
      },
      "execution_count": 10,
      "outputs": []
    },
    {
      "cell_type": "markdown",
      "source": [
        "# 📊 1. Basic Info & **Summary**"
      ],
      "metadata": {
        "id": "17T27PmoGJwE"
      }
    },
    {
      "cell_type": "code",
      "source": [
        "# Basic summary of dataset\n",
        "print(df.info())\n",
        "print(\"\\nSummary Statistics:\")\n",
        "print(df.describe())\n"
      ],
      "metadata": {
        "colab": {
          "base_uri": "https://localhost:8080/",
          "height": 0
        },
        "id": "aeJPvRR6FeCs",
        "outputId": "483d69cd-bb76-4fa4-fbdc-632b0975f752"
      },
      "execution_count": 12,
      "outputs": [
        {
          "output_type": "stream",
          "name": "stdout",
          "text": [
            "<class 'pandas.core.frame.DataFrame'>\n",
            "RangeIndex: 10000 entries, 0 to 9999\n",
            "Data columns (total 15 columns):\n",
            " #   Column             Non-Null Count  Dtype         \n",
            "---  ------             --------------  -----         \n",
            " 0   Entry_ID           10000 non-null  int64         \n",
            " 1   Vehicle_Type       10000 non-null  object        \n",
            " 2   Entry_Time         10000 non-null  datetime64[ns]\n",
            " 3   Exit_Time          10000 non-null  datetime64[ns]\n",
            " 4   Duration_Minutes   10000 non-null  int64         \n",
            " 5   Parking_Slot       10000 non-null  object        \n",
            " 6   Parking_Level      10000 non-null  object        \n",
            " 7   Payment_Status     10000 non-null  object        \n",
            " 8   Amount_Charged     10000 non-null  float64       \n",
            " 9   entry_hour         10000 non-null  int32         \n",
            " 10  entry_day_of_week  10000 non-null  int32         \n",
            " 11  is_weekend_entry   10000 non-null  int64         \n",
            " 12  exit_hour          10000 non-null  int32         \n",
            " 13  exit_day_of_week   10000 non-null  int32         \n",
            " 14  is_weekend_exit    10000 non-null  int64         \n",
            "dtypes: datetime64[ns](2), float64(1), int32(4), int64(4), object(4)\n",
            "memory usage: 1015.8+ KB\n",
            "None\n",
            "\n",
            "Summary Statistics:\n",
            "          Entry_ID                     Entry_Time  \\\n",
            "count  10000.00000                          10000   \n",
            "mean    5000.50000  2025-02-14 15:13:49.949999872   \n",
            "min        1.00000            2025-01-01 00:00:00   \n",
            "25%     2500.75000            2025-01-22 23:22:30   \n",
            "50%     5000.50000            2025-02-14 08:15:30   \n",
            "75%     7500.25000            2025-03-09 10:25:00   \n",
            "max    10000.00000            2025-03-31 23:56:00   \n",
            "std     2886.89568                            NaN   \n",
            "\n",
            "                           Exit_Time  Duration_Minutes  Amount_Charged  \\\n",
            "count                          10000       10000.00000    10000.000000   \n",
            "mean   2025-02-14 19:18:41.189999872         244.85400      146.640130   \n",
            "min              2025-01-01 01:14:00          10.00000        2.000000   \n",
            "25%              2025-01-23 03:03:45         126.00000       53.400000   \n",
            "50%              2025-02-14 13:18:30         246.00000      112.000000   \n",
            "75%              2025-03-09 13:10:45         366.00000      220.500000   \n",
            "max              2025-04-01 05:18:00         480.00000      480.000000   \n",
            "std                              NaN         136.06675      115.857562   \n",
            "\n",
            "         entry_hour  entry_day_of_week  is_weekend_entry     exit_hour  \\\n",
            "count  10000.000000       10000.000000      10000.000000  10000.000000   \n",
            "mean      11.552400           3.011300          0.284100     11.467000   \n",
            "min        0.000000           0.000000          0.000000      0.000000   \n",
            "25%        6.000000           1.000000          0.000000      5.000000   \n",
            "50%       12.000000           3.000000          0.000000     11.000000   \n",
            "75%       18.000000           5.000000          1.000000     18.000000   \n",
            "max       23.000000           6.000000          1.000000     23.000000   \n",
            "std        6.947163           1.998993          0.451007      6.971009   \n",
            "\n",
            "       exit_day_of_week  is_weekend_exit  \n",
            "count      10000.000000     10000.000000  \n",
            "mean           3.008500         0.284800  \n",
            "min            0.000000         0.000000  \n",
            "25%            1.000000         0.000000  \n",
            "50%            3.000000         0.000000  \n",
            "75%            5.000000         1.000000  \n",
            "max            6.000000         1.000000  \n",
            "std            2.000607         0.451342  \n"
          ]
        }
      ]
    },
    {
      "cell_type": "markdown",
      "source": [
        "# **📈 2. Count of Vehicles by Vehicle Type**"
      ],
      "metadata": {
        "id": "HUd-jstSGVuO"
      }
    },
    {
      "cell_type": "code",
      "source": [
        "import seaborn as sns\n",
        "import matplotlib.pyplot as plt\n",
        "\n",
        "plt.figure(figsize=(6,4))\n",
        "sns.countplot(data=df, x='Vehicle_Type')\n",
        "plt.title(\"Count of Vehicles by Type\")\n",
        "plt.xlabel(\"Vehicle Type\")\n",
        "plt.ylabel(\"Count\")\n",
        "plt.show()\n"
      ],
      "metadata": {
        "colab": {
          "base_uri": "https://localhost:8080/",
          "height": 410
        },
        "id": "x0npThtAFmq8",
        "outputId": "e1573d3c-a20b-46c8-8316-d2c295cb05c4"
      },
      "execution_count": 13,
      "outputs": [
        {
          "output_type": "display_data",
          "data": {
            "text/plain": [
              "<Figure size 600x400 with 1 Axes>"
            ],
            "image/png": "[encoded data removed]"
          },
          "metadata": {}
        }
      ]
    },
    {
      "cell_type": "markdown",
      "source": [
        "# **📅 3. Entry Hour Distribution**"
      ],
      "metadata": {
        "id": "g9n6ieHsGgW8"
      }
    },
    {
      "cell_type": "code",
      "source": [
        "plt.figure(figsize=(10,4))\n",
        "sns.histplot(df['entry_hour'], bins=24, kde=False)\n",
        "plt.title(\"Vehicle Entries by Hour of the Day\")\n",
        "plt.xlabel(\"Hour\")\n",
        "plt.ylabel(\"Number of Entries\")\n",
        "plt.xticks(range(0, 24))\n",
        "plt.show()\n"
      ],
      "metadata": {
        "colab": {
          "base_uri": "https://localhost:8080/",
          "height": 410
        },
        "id": "bqBOLWQKF9YY",
        "outputId": "72e9da3a-1115-4f8f-b2e8-44c227eea945"
      },
      "execution_count": 14,
      "outputs": [
        {
          "output_type": "display_data",
          "data": {
            "text/plain": [
              "<Figure size 1000x400 with 1 Axes>"
            ],
            "image/png": "[encoded data removed]"
          },
          "metadata": {}
        }
      ]
    },
    {
      "cell_type": "markdown",
      "source": [
        "# **📆 4. Entries on Weekdays vs Weekends**"
      ],
      "metadata": {
        "id": "imXGcH-1Gj2G"
      }
    },
    {
      "cell_type": "code",
      "source": [
        "sns.countplot(data=df, x='is_weekend_entry')\n",
        "plt.title(\"Entries on Weekdays vs Weekends\")\n",
        "plt.xticks([0, 1], ['Weekday', 'Weekend'])\n",
        "plt.ylabel(\"Number of Entries\")\n",
        "plt.xlabel(\"Day Type\")\n",
        "plt.show()\n"
      ],
      "metadata": {
        "colab": {
          "base_uri": "https://localhost:8080/",
          "height": 472
        },
        "id": "zuO3eg0uGA3z",
        "outputId": "d63a0a20-9092-4a51-9658-8d229f8ef649"
      },
      "execution_count": 15,
      "outputs": [
        {
          "output_type": "display_data",
          "data": {
            "text/plain": [
              "<Figure size 640x480 with 1 Axes>"
            ],
            "image/png": "[encoded data removed]"
          },
          "metadata": {}
        }
      ]
    },
    {
      "cell_type": "markdown",
      "source": [
        "# **⏱️ 5. Parking Duration Distribution**"
      ],
      "metadata": {
        "id": "gjpmprE2IJk0"
      }
    },
    {
      "cell_type": "code",
      "source": [
        "plt.figure(figsize=(8,4))\n",
        "sns.histplot(df['Duration_Minutes'], bins=30, kde=True)\n",
        "plt.title(\"Distribution of Parking Duration (in minutes)\")\n",
        "plt.xlabel(\"Duration (minutes)\")\n",
        "plt.ylabel(\"Frequency\")\n",
        "plt.show()\n",
        "\n",
        "\n"
      ],
      "metadata": {
        "colab": {
          "base_uri": "https://localhost:8080/",
          "height": 410
        },
        "id": "CF07WrZFGDxr",
        "outputId": "f7e345d3-d561-4be0-9aa0-6328e33e5f74"
      },
      "execution_count": 19,
      "outputs": [
        {
          "output_type": "display_data",
          "data": {
            "text/plain": [
              "<Figure size 800x400 with 1 Axes>"
            ],
            "image/png": "[encoded data removed]"
          },
          "metadata": {}
        }
      ]
    },
    {
      "cell_type": "markdown",
      "source": [
        "**💰 Revenue by Parking Level**"
      ],
      "metadata": {
        "id": "5bsdzZONHJfy"
      }
    },
    {
      "cell_type": "code",
      "source": [
        "\n",
        "plt.figure(figsize=(8,5))\n",
        "sns.boxplot(data=df, x='Parking_Level', y='Amount_Charged', palette='coolwarm')\n",
        "plt.title(\"💵 Amount Charged by Parking Level\")\n",
        "plt.xlabel(\"Parking Level\")\n",
        "plt.ylabel(\"Amount Charged\")\n",
        "plt.show()\n"
      ],
      "metadata": {
        "colab": {
          "base_uri": "https://localhost:8080/",
          "height": 628
        },
        "id": "x_NvNvOcGwv9",
        "outputId": "2b5543be-ab19-412a-e389-9b462cd84394"
      },
      "execution_count": 21,
      "outputs": [
        {
          "output_type": "stream",
          "name": "stderr",
          "text": [
            "<ipython-input-21-db7650ffe22d>:2: FutureWarning: \n",
            "\n",
            "Passing `palette` without assigning `hue` is deprecated and will be removed in v0.14.0. Assign the `x` variable to `hue` and set `legend=False` for the same effect.\n",
            "\n",
            "  sns.boxplot(data=df, x='Parking_Level', y='Amount_Charged', palette='coolwarm')\n",
            "/usr/local/lib/python3.11/dist-packages/IPython/core/pylabtools.py:151: UserWarning: Glyph 128181 (\\N{BANKNOTE WITH DOLLAR SIGN}) missing from font(s) DejaVu Sans.\n",
            "  fig.canvas.print_figure(bytes_io, **kw)\n"
          ]
        },
        {
          "output_type": "display_data",
          "data": {
            "text/plain": [
              "<Figure size 800x500 with 1 Axes>"
            ],
            "image/png": "[encoded data removed]"
          },
          "metadata": {}
        }
      ]
    },
    {
      "cell_type": "markdown",
      "source": [
        "# **🛠️ 1. Prepare the Dataset**"
      ],
      "metadata": {
        "id": "0RVAwk49KI_g"
      }
    },
    {
      "cell_type": "code",
      "source": [
        "from sklearn.preprocessing import LabelEncoder\n",
        "from sklearn.model_selection import train_test_split\n",
        "from sklearn.ensemble import RandomForestClassifier\n",
        "from sklearn.metrics import classification_report, accuracy_score\n",
        "\n",
        "# Define target (assume available if duration < 10 mins or Payment_Status is 'Unpaid')\n",
        "df['is_available'] = df['Payment_Status'].apply(lambda x: 1 if x == 'Unpaid' else 0)\n",
        "\n",
        "# Encode categorical features\n",
        "le_vehicle = LabelEncoder()\n",
        "le_level = LabelEncoder()\n",
        "\n",
        "df['Vehicle_Type_enc'] = le_vehicle.fit_transform(df['Vehicle_Type'])\n",
        "df['Parking_Level_enc'] = le_level.fit_transform(df['Parking_Level'])\n",
        "\n",
        "# Features and target\n",
        "features = ['entry_hour', 'entry_day_of_week', 'is_weekend_entry', 'Vehicle_Type_enc', 'Parking_Level_enc']\n",
        "X = df[features]\n",
        "y = df['is_available']\n"
      ],
      "metadata": {
        "id": "N_p4WFZtHtWg"
      },
      "execution_count": 23,
      "outputs": []
    },
    {
      "cell_type": "markdown",
      "source": [
        "# **🤖 2. Train Model**"
      ],
      "metadata": {
        "id": "m7q3gEI9KLyZ"
      }
    },
    {
      "cell_type": "code",
      "source": [
        "X_train, X_test, y_train, y_test = train_test_split(X, y, test_size=0.2, random_state=42)\n",
        "\n",
        "model = RandomForestClassifier(n_estimators=100, random_state=42)\n",
        "model.fit(X_train, y_train)\n",
        "\n",
        "y_pred = model.predict(X_test)\n",
        "print(\"✅ Accuracy:\", accuracy_score(y_test, y_pred))\n",
        "print(classification_report(y_test, y_pred))\n"
      ],
      "metadata": {
        "colab": {
          "base_uri": "https://localhost:8080/",
          "height": 0
        },
        "id": "ZO4bS4fKI0yo",
        "outputId": "5eda1aa0-8799-4d5f-b79b-378ce7597820"
      },
      "execution_count": 24,
      "outputs": [
        {
          "output_type": "stream",
          "name": "stdout",
          "text": [
            "✅ Accuracy: 0.5085\n",
            "              precision    recall  f1-score   support\n",
            "\n",
            "           0       0.52      0.51      0.52      1025\n",
            "           1       0.50      0.51      0.50       975\n",
            "\n",
            "    accuracy                           0.51      2000\n",
            "   macro avg       0.51      0.51      0.51      2000\n",
            "weighted avg       0.51      0.51      0.51      2000\n",
            "\n"
          ]
        }
      ]
    },
    {
      "cell_type": "markdown",
      "source": [
        "# **📥 3. Predict from User Input**"
      ],
      "metadata": {
        "id": "ypNI-PORKWNS"
      }
    },
    {
      "cell_type": "code",
      "source": [
        "# Function to predict availability from user input\n",
        "def predict_availability(hour, day_of_week, is_weekend, vehicle_type, parking_level):\n",
        "    vehicle_encoded = le_vehicle.transform([vehicle_type])[0]\n",
        "    level_encoded = le_level.transform([parking_level])[0]\n",
        "\n",
        "    input_data = [[hour, day_of_week, is_weekend, vehicle_encoded, level_encoded]]\n",
        "    prediction = model.predict(input_data)[0]\n",
        "\n",
        "    return \"✅ Slot likely AVAILABLE\" if prediction == 1 else \"❌ Slot likely NOT available\"\n",
        "\n",
        "# Example Usage\n",
        "# Input: 10 AM, Monday, Not weekend, 'Car', 'L1'\n",
        "print(predict_availability(10, 0, 0, 'Car', 'L1'))\n"
      ],
      "metadata": {
        "colab": {
          "base_uri": "https://localhost:8080/",
          "height": 0
        },
        "id": "1HAn2YOdI4a6",
        "outputId": "134c8380-cec7-4055-ec90-e698a77f2415"
      },
      "execution_count": 25,
      "outputs": [
        {
          "output_type": "stream",
          "name": "stdout",
          "text": [
            "❌ Slot likely NOT available\n"
          ]
        },
        {
          "output_type": "stream",
          "name": "stderr",
          "text": [
            "/usr/local/lib/python3.11/dist-packages/sklearn/utils/validation.py:2739: UserWarning: X does not have valid feature names, but RandomForestClassifier was fitted with feature names\n",
            "  warnings.warn(\n"
          ]
        }
      ]
    },
    {
      "cell_type": "markdown",
      "source": [
        "# *📊 1. Import Metrics and Evaluate*"
      ],
      "metadata": {
        "id": "x0ZbSjiIKZ8Z"
      }
    },
    {
      "cell_type": "code",
      "source": [
        "from sklearn.metrics import confusion_matrix, classification_report, accuracy_score, precision_score, recall_score, f1_score\n",
        "\n",
        "# Predictions\n",
        "y_pred = model.predict(X_test)\n",
        "\n",
        "# Accuracy\n",
        "print(\"✅ Accuracy Score:\", round(accuracy_score(y_test, y_pred), 2))\n",
        "\n",
        "# Precision\n",
        "print(\"🎯 Precision Score:\", round(precision_score(y_test, y_pred), 2))\n",
        "\n",
        "# Recall\n",
        "print(\"📢 Recall Score:\", round(recall_score(y_test, y_pred), 2))\n",
        "\n",
        "# F1 Score\n",
        "print(\"📐 F1 Score:\", round(f1_score(y_test, y_pred), 2))\n",
        "\n",
        "# Classification Report\n",
        "print(\"\\n📋 Classification Report:\\n\")\n",
        "print(classification_report(y_test, y_pred))\n"
      ],
      "metadata": {
        "colab": {
          "base_uri": "https://localhost:8080/",
          "height": 0
        },
        "id": "MijVBEGlI8wh",
        "outputId": "20ad2e08-f5a6-43e5-84bf-37c820408fc6"
      },
      "execution_count": 26,
      "outputs": [
        {
          "output_type": "stream",
          "name": "stdout",
          "text": [
            "✅ Accuracy Score: 0.51\n",
            "🎯 Precision Score: 0.5\n",
            "📢 Recall Score: 0.51\n",
            "📐 F1 Score: 0.5\n",
            "\n",
            "📋 Classification Report:\n",
            "\n",
            "              precision    recall  f1-score   support\n",
            "\n",
            "           0       0.52      0.51      0.52      1025\n",
            "           1       0.50      0.51      0.50       975\n",
            "\n",
            "    accuracy                           0.51      2000\n",
            "   macro avg       0.51      0.51      0.51      2000\n",
            "weighted avg       0.51      0.51      0.51      2000\n",
            "\n"
          ]
        }
      ]
    },
    {
      "cell_type": "markdown",
      "source": [
        "# **🔍 2. Confusion Matrix Visualization**"
      ],
      "metadata": {
        "id": "bUng8XAZKhtR"
      }
    },
    {
      "cell_type": "code",
      "source": [
        "import seaborn as sns\n",
        "import matplotlib.pyplot as plt\n",
        "from sklearn.metrics import ConfusionMatrixDisplay\n",
        "\n",
        "# Confusion matrix\n",
        "cm = confusion_matrix(y_test, y_pred)\n",
        "disp = ConfusionMatrixDisplay(confusion_matrix=cm, display_labels=[\"Not Available\", \"Available\"])\n",
        "disp.plot(cmap=\"Blues\", values_format='d')\n",
        "plt.title(\"📉 Confusion Matrix - Parking Availability Prediction\")\n",
        "plt.show()\n"
      ],
      "metadata": {
        "colab": {
          "base_uri": "https://localhost:8080/",
          "height": 527
        },
        "id": "8g5PAjavJ522",
        "outputId": "70e4412d-5e24-4004-f7b3-d351d32cc8ea"
      },
      "execution_count": 27,
      "outputs": [
        {
          "output_type": "stream",
          "name": "stderr",
          "text": [
            "/usr/local/lib/python3.11/dist-packages/IPython/core/pylabtools.py:151: UserWarning: Glyph 128201 (\\N{CHART WITH DOWNWARDS TREND}) missing from font(s) DejaVu Sans.\n",
            "  fig.canvas.print_figure(bytes_io, **kw)\n"
          ]
        },
        {
          "output_type": "display_data",
          "data": {
            "text/plain": [
              "<Figure size 640x480 with 2 Axes>"
            ],
            "image/png": "[encoded data removed]"
          },
          "metadata": {}
        }
      ]
    },
    {
      "cell_type": "code",
      "source": [],
      "metadata": {
        "id": "u-fFbkLhJ9Lt"
      },
      "execution_count": null,
      "outputs": []
    }
  ],
  "metadata": {
    "colab": {
      "name": "Welcome To Colab",
      "provenance": [],
      "include_colab_link": true
    },
    "kernelspec": {
      "display_name": "Python 3",
      "name": "python3"
    }
  },
  "nbformat": 4,
  "nbformat_minor": 0
}