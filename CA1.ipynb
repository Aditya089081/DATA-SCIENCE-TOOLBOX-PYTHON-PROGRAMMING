{
  "cells": [
    {
      "cell_type": "markdown",
      "metadata": {
        "id": "view-in-github",
        "colab_type": "text"
      },
      "source": [
        "<a href=\"https://colab.research.google.com/github/Aditya089081/DATA-SCIENCE-TOOLBOX-PYTHON-PROGRAMMING/blob/main/CA1.ipynb\" target=\"_parent\"><img src=\"https://colab.research.google.com/assets/colab-badge.svg\" alt=\"Open In Colab\"/></a>"
      ]
    },
    {
      "cell_type": "code",
      "source": [
        "import pandas as pd\n",
        "\n",
        "data = pd.read_csv('/content/BSE-BOM590111.csv')\n",
        "missing_values = data.isnull().sum()\n",
        "print(missing_values)\n",
        "data.fillna(data.select_dtypes(include=['number']).mean(), inplace=True)\n",
        "print(data.head())\n"
      ],
      "metadata": {
        "id": "HhpgOV2olwyj",
        "outputId": "a6b32e41-2d8d-4ac2-d0d7-61d00ebd93c4",
        "colab": {
          "base_uri": "https://localhost:8080/"
        }
      },
      "execution_count": 16,
      "outputs": [
        {
          "output_type": "stream",
          "name": "stdout",
          "text": [
            "Date                         0\n",
            "Open                         0\n",
            "High                         0\n",
            "Low                          0\n",
            "Close                        0\n",
            "WAP                          0\n",
            "No. of Shares                0\n",
            "No. of Trades                0\n",
            "Total Turnover               0\n",
            "Deliverable Quantity         0\n",
            "% Deli. Qty to Traded Qty    0\n",
            "Spread H-L                   0\n",
            "Spread C-O                   0\n",
            "dtype: int64\n",
            "         Date  Open  High   Low  Close   WAP  No. of Shares  No. of Trades  \\\n",
            "0  2017-02-06  0.79  0.79  0.76   0.76  0.79         7430.0            7.0   \n",
            "1  2017-02-03  0.79  0.79  0.79   0.79  0.79          310.0            4.0   \n",
            "2  2017-02-02  0.83  0.83  0.83   0.83  0.83           75.0            1.0   \n",
            "3  2017-01-31  0.87  0.87  0.87   0.87  0.87         1050.0            2.0   \n",
            "4  2017-01-25  0.91  0.91  0.91   0.91  0.91          400.0            1.0   \n",
            "\n",
            "   Total Turnover  Deliverable Quantity  % Deli. Qty to Traded Qty  \\\n",
            "0          5848.0                7430.0                      100.0   \n",
            "1           244.0                 310.0                      100.0   \n",
            "2            62.0                  75.0                      100.0   \n",
            "3           913.0                1050.0                      100.0   \n",
            "4           364.0                 400.0                      100.0   \n",
            "\n",
            "   Spread H-L  Spread C-O  \n",
            "0        0.03       -0.03  \n",
            "1        0.00        0.00  \n",
            "2        0.00        0.00  \n",
            "3        0.00        0.00  \n",
            "4        0.00        0.00  \n"
          ]
        }
      ]
    },
    {
      "cell_type": "code",
      "source": [
        "# Question -2 -->\n",
        "duplicate_rows = data.duplicated().sum()\n",
        "duplicate_columns = data.T.duplicated().sum()\n"
      ],
      "metadata": {
        "id": "R1Nc2p1tnW2L"
      },
      "execution_count": 18,
      "outputs": []
    },
    {
      "cell_type": "code",
      "source": [
        "# Question -3 -->\n",
        "\n",
        "data.head()"
      ],
      "metadata": {
        "id": "1EYc72xpp7Xf",
        "outputId": "ccf43c8f-1949-45b4-b41b-98ac752c441a",
        "colab": {
          "base_uri": "https://localhost:8080/",
          "height": 310
        }
      },
      "execution_count": 20,
      "outputs": [
        {
          "output_type": "execute_result",
          "data": {
            "text/plain": [
              "         Date  Open  High   Low  Close   WAP  No. of Shares  No. of Trades  \\\n",
              "0  2017-02-06  0.79  0.79  0.76   0.76  0.79         7430.0            7.0   \n",
              "1  2017-02-03  0.79  0.79  0.79   0.79  0.79          310.0            4.0   \n",
              "2  2017-02-02  0.83  0.83  0.83   0.83  0.83           75.0            1.0   \n",
              "3  2017-01-31  0.87  0.87  0.87   0.87  0.87         1050.0            2.0   \n",
              "4  2017-01-25  0.91  0.91  0.91   0.91  0.91          400.0            1.0   \n",
              "\n",
              "   Total Turnover  Deliverable Quantity  % Deli. Qty to Traded Qty  \\\n",
              "0          5848.0                7430.0                      100.0   \n",
              "1           244.0                 310.0                      100.0   \n",
              "2            62.0                  75.0                      100.0   \n",
              "3           913.0                1050.0                      100.0   \n",
              "4           364.0                 400.0                      100.0   \n",
              "\n",
              "   Spread H-L  Spread C-O  \n",
              "0        0.03       -0.03  \n",
              "1        0.00        0.00  \n",
              "2        0.00        0.00  \n",
              "3        0.00        0.00  \n",
              "4        0.00        0.00  "
            ],
            "text/html": [
              "\n",
              "  <div id=\"df-83dc7264-7d9a-4375-a775-79f5c93888c2\" class=\"colab-df-container\">\n",
              "    <div>\n",
              "<style scoped>\n",
              "    .dataframe tbody tr th:only-of-type {\n",
              "        vertical-align: middle;\n",
              "    }\n",
              "\n",
              "    .dataframe tbody tr th {\n",
              "        vertical-align: top;\n",
              "    }\n",
              "\n",
              "    .dataframe thead th {\n",
              "        text-align: right;\n",
              "    }\n",
              "</style>\n",
              "<table border=\"1\" class=\"dataframe\">\n",
              "  <thead>\n",
              "    <tr style=\"text-align: right;\">\n",
              "      <th></th>\n",
              "      <th>Date</th>\n",
              "      <th>Open</th>\n",
              "      <th>High</th>\n",
              "      <th>Low</th>\n",
              "      <th>Close</th>\n",
              "      <th>WAP</th>\n",
              "      <th>No. of Shares</th>\n",
              "      <th>No. of Trades</th>\n",
              "      <th>Total Turnover</th>\n",
              "      <th>Deliverable Quantity</th>\n",
              "      <th>% Deli. Qty to Traded Qty</th>\n",
              "      <th>Spread H-L</th>\n",
              "      <th>Spread C-O</th>\n",
              "    </tr>\n",
              "  </thead>\n",
              "  <tbody>\n",
              "    <tr>\n",
              "      <th>0</th>\n",
              "      <td>2017-02-06</td>\n",
              "      <td>0.79</td>\n",
              "      <td>0.79</td>\n",
              "      <td>0.76</td>\n",
              "      <td>0.76</td>\n",
              "      <td>0.79</td>\n",
              "      <td>7430.0</td>\n",
              "      <td>7.0</td>\n",
              "      <td>5848.0</td>\n",
              "      <td>7430.0</td>\n",
              "      <td>100.0</td>\n",
              "      <td>0.03</td>\n",
              "      <td>-0.03</td>\n",
              "    </tr>\n",
              "    <tr>\n",
              "      <th>1</th>\n",
              "      <td>2017-02-03</td>\n",
              "      <td>0.79</td>\n",
              "      <td>0.79</td>\n",
              "      <td>0.79</td>\n",
              "      <td>0.79</td>\n",
              "      <td>0.79</td>\n",
              "      <td>310.0</td>\n",
              "      <td>4.0</td>\n",
              "      <td>244.0</td>\n",
              "      <td>310.0</td>\n",
              "      <td>100.0</td>\n",
              "      <td>0.00</td>\n",
              "      <td>0.00</td>\n",
              "    </tr>\n",
              "    <tr>\n",
              "      <th>2</th>\n",
              "      <td>2017-02-02</td>\n",
              "      <td>0.83</td>\n",
              "      <td>0.83</td>\n",
              "      <td>0.83</td>\n",
              "      <td>0.83</td>\n",
              "      <td>0.83</td>\n",
              "      <td>75.0</td>\n",
              "      <td>1.0</td>\n",
              "      <td>62.0</td>\n",
              "      <td>75.0</td>\n",
              "      <td>100.0</td>\n",
              "      <td>0.00</td>\n",
              "      <td>0.00</td>\n",
              "    </tr>\n",
              "    <tr>\n",
              "      <th>3</th>\n",
              "      <td>2017-01-31</td>\n",
              "      <td>0.87</td>\n",
              "      <td>0.87</td>\n",
              "      <td>0.87</td>\n",
              "      <td>0.87</td>\n",
              "      <td>0.87</td>\n",
              "      <td>1050.0</td>\n",
              "      <td>2.0</td>\n",
              "      <td>913.0</td>\n",
              "      <td>1050.0</td>\n",
              "      <td>100.0</td>\n",
              "      <td>0.00</td>\n",
              "      <td>0.00</td>\n",
              "    </tr>\n",
              "    <tr>\n",
              "      <th>4</th>\n",
              "      <td>2017-01-25</td>\n",
              "      <td>0.91</td>\n",
              "      <td>0.91</td>\n",
              "      <td>0.91</td>\n",
              "      <td>0.91</td>\n",
              "      <td>0.91</td>\n",
              "      <td>400.0</td>\n",
              "      <td>1.0</td>\n",
              "      <td>364.0</td>\n",
              "      <td>400.0</td>\n",
              "      <td>100.0</td>\n",
              "      <td>0.00</td>\n",
              "      <td>0.00</td>\n",
              "    </tr>\n",
              "  </tbody>\n",
              "</table>\n",
              "</div>\n",
              "    <div class=\"colab-df-buttons\">\n",
              "\n",
              "  <div class=\"colab-df-container\">\n",
              "    <button class=\"colab-df-convert\" onclick=\"convertToInteractive('df-83dc7264-7d9a-4375-a775-79f5c93888c2')\"\n",
              "            title=\"Convert this dataframe to an interactive table.\"\n",
              "            style=\"display:none;\">\n",
              "\n",
              "  <svg xmlns=\"http://www.w3.org/2000/svg\" height=\"24px\" viewBox=\"0 -960 960 960\">\n",
              "    <path d=\"M120-120v-720h720v720H120Zm60-500h600v-160H180v160Zm220 220h160v-160H400v160Zm0 220h160v-160H400v160ZM180-400h160v-160H180v160Zm440 0h160v-160H620v160ZM180-180h160v-160H180v160Zm440 0h160v-160H620v160Z\"/>\n",
              "  </svg>\n",
              "    </button>\n",
              "\n",
              "  <style>\n",
              "    .colab-df-container {\n",
              "      display:flex;\n",
              "      gap: 12px;\n",
              "    }\n",
              "\n",
              "    .colab-df-convert {\n",
              "      background-color: #E8F0FE;\n",
              "      border: none;\n",
              "      border-radius: 50%;\n",
              "      cursor: pointer;\n",
              "      display: none;\n",
              "      fill: #1967D2;\n",
              "      height: 32px;\n",
              "      padding: 0 0 0 0;\n",
              "      width: 32px;\n",
              "    }\n",
              "\n",
              "    .colab-df-convert:hover {\n",
              "      background-color: #E2EBFA;\n",
              "      box-shadow: 0px 1px 2px rgba(60, 64, 67, 0.3), 0px 1px 3px 1px rgba(60, 64, 67, 0.15);\n",
              "      fill: #174EA6;\n",
              "    }\n",
              "\n",
              "    .colab-df-buttons div {\n",
              "      margin-bottom: 4px;\n",
              "    }\n",
              "\n",
              "    [theme=dark] .colab-df-convert {\n",
              "      background-color: #3B4455;\n",
              "      fill: #D2E3FC;\n",
              "    }\n",
              "\n",
              "    [theme=dark] .colab-df-convert:hover {\n",
              "      background-color: #434B5C;\n",
              "      box-shadow: 0px 1px 3px 1px rgba(0, 0, 0, 0.15);\n",
              "      filter: drop-shadow(0px 1px 2px rgba(0, 0, 0, 0.3));\n",
              "      fill: #FFFFFF;\n",
              "    }\n",
              "  </style>\n",
              "\n",
              "    <script>\n",
              "      const buttonEl =\n",
              "        document.querySelector('#df-83dc7264-7d9a-4375-a775-79f5c93888c2 button.colab-df-convert');\n",
              "      buttonEl.style.display =\n",
              "        google.colab.kernel.accessAllowed ? 'block' : 'none';\n",
              "\n",
              "      async function convertToInteractive(key) {\n",
              "        const element = document.querySelector('#df-83dc7264-7d9a-4375-a775-79f5c93888c2');\n",
              "        const dataTable =\n",
              "          await google.colab.kernel.invokeFunction('convertToInteractive',\n",
              "                                                    [key], {});\n",
              "        if (!dataTable) return;\n",
              "\n",
              "        const docLinkHtml = 'Like what you see? Visit the ' +\n",
              "          '<a target=\"_blank\" href=https://colab.research.google.com/notebooks/data_table.ipynb>data table notebook</a>'\n",
              "          + ' to learn more about interactive tables.';\n",
              "        element.innerHTML = '';\n",
              "        dataTable['output_type'] = 'display_data';\n",
              "        await google.colab.output.renderOutput(dataTable, element);\n",
              "        const docLink = document.createElement('div');\n",
              "        docLink.innerHTML = docLinkHtml;\n",
              "        element.appendChild(docLink);\n",
              "      }\n",
              "    </script>\n",
              "  </div>\n",
              "\n",
              "\n",
              "<div id=\"df-e5624477-260d-489b-9fa4-7b5ddabcda19\">\n",
              "  <button class=\"colab-df-quickchart\" onclick=\"quickchart('df-e5624477-260d-489b-9fa4-7b5ddabcda19')\"\n",
              "            title=\"Suggest charts\"\n",
              "            style=\"display:none;\">\n",
              "\n",
              "<svg xmlns=\"http://www.w3.org/2000/svg\" height=\"24px\"viewBox=\"0 0 24 24\"\n",
              "     width=\"24px\">\n",
              "    <g>\n",
              "        <path d=\"M19 3H5c-1.1 0-2 .9-2 2v14c0 1.1.9 2 2 2h14c1.1 0 2-.9 2-2V5c0-1.1-.9-2-2-2zM9 17H7v-7h2v7zm4 0h-2V7h2v10zm4 0h-2v-4h2v4z\"/>\n",
              "    </g>\n",
              "</svg>\n",
              "  </button>\n",
              "\n",
              "<style>\n",
              "  .colab-df-quickchart {\n",
              "      --bg-color: #E8F0FE;\n",
              "      --fill-color: #1967D2;\n",
              "      --hover-bg-color: #E2EBFA;\n",
              "      --hover-fill-color: #174EA6;\n",
              "      --disabled-fill-color: #AAA;\n",
              "      --disabled-bg-color: #DDD;\n",
              "  }\n",
              "\n",
              "  [theme=dark] .colab-df-quickchart {\n",
              "      --bg-color: #3B4455;\n",
              "      --fill-color: #D2E3FC;\n",
              "      --hover-bg-color: #434B5C;\n",
              "      --hover-fill-color: #FFFFFF;\n",
              "      --disabled-bg-color: #3B4455;\n",
              "      --disabled-fill-color: #666;\n",
              "  }\n",
              "\n",
              "  .colab-df-quickchart {\n",
              "    background-color: var(--bg-color);\n",
              "    border: none;\n",
              "    border-radius: 50%;\n",
              "    cursor: pointer;\n",
              "    display: none;\n",
              "    fill: var(--fill-color);\n",
              "    height: 32px;\n",
              "    padding: 0;\n",
              "    width: 32px;\n",
              "  }\n",
              "\n",
              "  .colab-df-quickchart:hover {\n",
              "    background-color: var(--hover-bg-color);\n",
              "    box-shadow: 0 1px 2px rgba(60, 64, 67, 0.3), 0 1px 3px 1px rgba(60, 64, 67, 0.15);\n",
              "    fill: var(--button-hover-fill-color);\n",
              "  }\n",
              "\n",
              "  .colab-df-quickchart-complete:disabled,\n",
              "  .colab-df-quickchart-complete:disabled:hover {\n",
              "    background-color: var(--disabled-bg-color);\n",
              "    fill: var(--disabled-fill-color);\n",
              "    box-shadow: none;\n",
              "  }\n",
              "\n",
              "  .colab-df-spinner {\n",
              "    border: 2px solid var(--fill-color);\n",
              "    border-color: transparent;\n",
              "    border-bottom-color: var(--fill-color);\n",
              "    animation:\n",
              "      spin 1s steps(1) infinite;\n",
              "  }\n",
              "\n",
              "  @keyframes spin {\n",
              "    0% {\n",
              "      border-color: transparent;\n",
              "      border-bottom-color: var(--fill-color);\n",
              "      border-left-color: var(--fill-color);\n",
              "    }\n",
              "    20% {\n",
              "      border-color: transparent;\n",
              "      border-left-color: var(--fill-color);\n",
              "      border-top-color: var(--fill-color);\n",
              "    }\n",
              "    30% {\n",
              "      border-color: transparent;\n",
              "      border-left-color: var(--fill-color);\n",
              "      border-top-color: var(--fill-color);\n",
              "      border-right-color: var(--fill-color);\n",
              "    }\n",
              "    40% {\n",
              "      border-color: transparent;\n",
              "      border-right-color: var(--fill-color);\n",
              "      border-top-color: var(--fill-color);\n",
              "    }\n",
              "    60% {\n",
              "      border-color: transparent;\n",
              "      border-right-color: var(--fill-color);\n",
              "    }\n",
              "    80% {\n",
              "      border-color: transparent;\n",
              "      border-right-color: var(--fill-color);\n",
              "      border-bottom-color: var(--fill-color);\n",
              "    }\n",
              "    90% {\n",
              "      border-color: transparent;\n",
              "      border-bottom-color: var(--fill-color);\n",
              "    }\n",
              "  }\n",
              "</style>\n",
              "\n",
              "  <script>\n",
              "    async function quickchart(key) {\n",
              "      const quickchartButtonEl =\n",
              "        document.querySelector('#' + key + ' button');\n",
              "      quickchartButtonEl.disabled = true;  // To prevent multiple clicks.\n",
              "      quickchartButtonEl.classList.add('colab-df-spinner');\n",
              "      try {\n",
              "        const charts = await google.colab.kernel.invokeFunction(\n",
              "            'suggestCharts', [key], {});\n",
              "      } catch (error) {\n",
              "        console.error('Error during call to suggestCharts:', error);\n",
              "      }\n",
              "      quickchartButtonEl.classList.remove('colab-df-spinner');\n",
              "      quickchartButtonEl.classList.add('colab-df-quickchart-complete');\n",
              "    }\n",
              "    (() => {\n",
              "      let quickchartButtonEl =\n",
              "        document.querySelector('#df-e5624477-260d-489b-9fa4-7b5ddabcda19 button');\n",
              "      quickchartButtonEl.style.display =\n",
              "        google.colab.kernel.accessAllowed ? 'block' : 'none';\n",
              "    })();\n",
              "  </script>\n",
              "</div>\n",
              "\n",
              "    </div>\n",
              "  </div>\n"
            ],
            "application/vnd.google.colaboratory.intrinsic+json": {
              "type": "dataframe",
              "variable_name": "data",
              "summary": "{\n  \"name\": \"data\",\n  \"rows\": 1660,\n  \"fields\": [\n    {\n      \"column\": \"Date\",\n      \"properties\": {\n        \"dtype\": \"object\",\n        \"num_unique_values\": 1660,\n        \"samples\": [\n          \"2009-12-09\",\n          \"2015-04-10\",\n          \"2010-02-05\"\n        ],\n        \"semantic_type\": \"\",\n        \"description\": \"\"\n      }\n    },\n    {\n      \"column\": \"Open\",\n      \"properties\": {\n        \"dtype\": \"number\",\n        \"std\": 17.169589753927422,\n        \"min\": 0.5,\n        \"max\": 84.95,\n        \"num_unique_values\": 781,\n        \"samples\": [\n          58.6,\n          29.15,\n          17.2\n        ],\n        \"semantic_type\": \"\",\n        \"description\": \"\"\n      }\n    },\n    {\n      \"column\": \"High\",\n      \"properties\": {\n        \"dtype\": \"number\",\n        \"std\": 17.704607008930015,\n        \"min\": 0.52,\n        \"max\": 84.95,\n        \"num_unique_values\": 794,\n        \"samples\": [\n          34.5,\n          62.45,\n          1.3\n        ],\n        \"semantic_type\": \"\",\n        \"description\": \"\"\n      }\n    },\n    {\n      \"column\": \"Low\",\n      \"properties\": {\n        \"dtype\": \"number\",\n        \"std\": 16.143363077984805,\n        \"min\": 0.5,\n        \"max\": 71.5,\n        \"num_unique_values\": 786,\n        \"samples\": [\n          45.25,\n          0.55,\n          7.6\n        ],\n        \"semantic_type\": \"\",\n        \"description\": \"\"\n      }\n    },\n    {\n      \"column\": \"Close\",\n      \"properties\": {\n        \"dtype\": \"number\",\n        \"std\": 16.837100445865904,\n        \"min\": 0.52,\n        \"max\": 74.55,\n        \"num_unique_values\": 840,\n        \"samples\": [\n          49.75,\n          64.65,\n          0.58\n        ],\n        \"semantic_type\": \"\",\n        \"description\": \"\"\n      }\n    },\n    {\n      \"column\": \"WAP\",\n      \"properties\": {\n        \"dtype\": \"number\",\n        \"std\": 16.920058369053002,\n        \"min\": 0.0,\n        \"max\": 74.9723937032,\n        \"num_unique_values\": 1427,\n        \"samples\": [\n          1.11701003698,\n          69.6788879107,\n          1.34217171717\n        ],\n        \"semantic_type\": \"\",\n        \"description\": \"\"\n      }\n    },\n    {\n      \"column\": \"No. of Shares\",\n      \"properties\": {\n        \"dtype\": \"number\",\n        \"std\": 140560.4657292468,\n        \"min\": 1.0,\n        \"max\": 849341.0,\n        \"num_unique_values\": 1518,\n        \"samples\": [\n          173.0,\n          40746.0,\n          141661.0\n        ],\n        \"semantic_type\": \"\",\n        \"description\": \"\"\n      }\n    },\n    {\n      \"column\": \"No. of Trades\",\n      \"properties\": {\n        \"dtype\": \"number\",\n        \"std\": 138.844765596693,\n        \"min\": 1.0,\n        \"max\": 752.0,\n        \"num_unique_values\": 419,\n        \"samples\": [\n          151.0,\n          116.0,\n          175.0\n        ],\n        \"semantic_type\": \"\",\n        \"description\": \"\"\n      }\n    },\n    {\n      \"column\": \"Total Turnover\",\n      \"properties\": {\n        \"dtype\": \"number\",\n        \"std\": 2938726.1347376825,\n        \"min\": 0.0,\n        \"max\": 23830476.0,\n        \"num_unique_values\": 1626,\n        \"samples\": [\n          5876846.0,\n          1213273.0,\n          7215084.0\n        ],\n        \"semantic_type\": \"\",\n        \"description\": \"\"\n      }\n    },\n    {\n      \"column\": \"Deliverable Quantity\",\n      \"properties\": {\n        \"dtype\": \"number\",\n        \"std\": 96646.34860543598,\n        \"min\": 1.0,\n        \"max\": 631381.0,\n        \"num_unique_values\": 1513,\n        \"samples\": [\n          202989.0,\n          34699.0,\n          49555.0\n        ],\n        \"semantic_type\": \"\",\n        \"description\": \"\"\n      }\n    },\n    {\n      \"column\": \"% Deli. Qty to Traded Qty\",\n      \"properties\": {\n        \"dtype\": \"number\",\n        \"std\": 16.648157804227797,\n        \"min\": 4.76,\n        \"max\": 100.0,\n        \"num_unique_values\": 677,\n        \"samples\": [\n          63.18,\n          52.31,\n          81.64\n        ],\n        \"semantic_type\": \"\",\n        \"description\": \"\"\n      }\n    },\n    {\n      \"column\": \"Spread H-L\",\n      \"properties\": {\n        \"dtype\": \"number\",\n        \"std\": 1.9600706820566993,\n        \"min\": 0.0,\n        \"max\": 23.3,\n        \"num_unique_values\": 251,\n        \"samples\": [\n          8.05,\n          0.06,\n          3.3\n        ],\n        \"semantic_type\": \"\",\n        \"description\": \"\"\n      }\n    },\n    {\n      \"column\": \"Spread C-O\",\n      \"properties\": {\n        \"dtype\": \"number\",\n        \"std\": 1.3427872839733441,\n        \"min\": -17.15,\n        \"max\": 14.0,\n        \"num_unique_values\": 259,\n        \"samples\": [\n          -0.42,\n          -0.4,\n          -0.04\n        ],\n        \"semantic_type\": \"\",\n        \"description\": \"\"\n      }\n    }\n  ]\n}"
            }
          },
          "metadata": {},
          "execution_count": 20
        }
      ]
    },
    {
      "cell_type": "code",
      "source": [
        "# Question -4 -->\n",
        "data.shape"
      ],
      "metadata": {
        "id": "z7XS21ZuqBQK",
        "outputId": "6f9ebc26-5a87-4527-dd44-13c6a7884783",
        "colab": {
          "base_uri": "https://localhost:8080/"
        }
      },
      "execution_count": 22,
      "outputs": [
        {
          "output_type": "execute_result",
          "data": {
            "text/plain": [
              "(1660, 13)"
            ]
          },
          "metadata": {},
          "execution_count": 22
        }
      ]
    },
    {
      "cell_type": "code",
      "source": [
        "# Question - 6 -->\n",
        "import pandas as pd\n",
        "import matplotlib.pyplot as plt\n",
        "data.hist()\n",
        "plt.show()\n"
      ],
      "metadata": {
        "id": "XSZGObw_q5-2",
        "outputId": "bdf225b6-151c-41c1-fdeb-35353ab4b5a8",
        "colab": {
          "base_uri": "https://localhost:8080/",
          "height": 452
        }
      },
      "execution_count": 34,
      "outputs": [
        {
          "output_type": "display_data",
          "data": {
            "text/plain": [
              "<Figure size 640x480 with 12 Axes>"
            ],
            "image/png": "[encoded data removed]"
          },
          "metadata": {}
        }
      ]
    },
    {
      "cell_type": "code",
      "source": [
        "\n",
        "# Question - 7 -->\n",
        "\n",
        "data['Date'] = pd.to_datetime(data['Date'])\n",
        "\n",
        "\n",
        "\n",
        "plt.figure(figsize=(12, 6))\n",
        "\n",
        "\n",
        "plt.xlabel('Date')\n",
        "plt.ylabel('Price')\n",
        "plt.title('Trend of Price Over Time for Region_Name')\n",
        "plt.xticks(rotation=45)\n",
        "\n",
        "plt.show()\n"
      ],
      "metadata": {
        "id": "DFmifi9Gr8k1",
        "outputId": "e3286bd4-636b-4b6b-f565-b4a4829956f1",
        "colab": {
          "base_uri": "https://localhost:8080/",
          "height": 576
        }
      },
      "execution_count": 46,
      "outputs": [
        {
          "output_type": "display_data",
          "data": {
            "text/plain": [
              "<Figure size 1200x600 with 1 Axes>"
            ],
            "image/png": "[encoded data removed]"
          },
          "metadata": {}
        }
      ]
    },
    {
      "cell_type": "code",
      "source": [
        "# Question - 7 -->\n",
        "import pandas as pd\n",
        "import matplotlib.pyplot as plt\n",
        "\n"
      ],
      "metadata": {
        "id": "L1yWJXjMtWQl"
      },
      "execution_count": 43,
      "outputs": []
    },
    {
      "cell_type": "code",
      "source": [
        "# Question - 8 -->\n",
        "data['Date'] = pd.to_datetime(data['Date'])\n"
      ],
      "metadata": {
        "id": "ek_cJaA3uCsE"
      },
      "execution_count": 48,
      "outputs": []
    },
    {
      "cell_type": "code",
      "source": [],
      "metadata": {
        "id": "a8q1_pqgvqX8"
      },
      "execution_count": 48,
      "outputs": []
    },
    {
      "cell_type": "code",
      "source": [
        "# Question - 10 -->\n",
        "print(data['Date'].head(10))"
      ],
      "metadata": {
        "id": "DcrApvqmwFDI",
        "outputId": "68e0e47a-7a04-43bf-81d1-c91f5ebff27f",
        "colab": {
          "base_uri": "https://localhost:8080/"
        }
      },
      "execution_count": 51,
      "outputs": [
        {
          "output_type": "stream",
          "name": "stdout",
          "text": [
            "0   2017-02-06\n",
            "1   2017-02-03\n",
            "2   2017-02-02\n",
            "3   2017-01-31\n",
            "4   2017-01-25\n",
            "5   2017-01-24\n",
            "6   2017-01-23\n",
            "7   2017-01-20\n",
            "8   2017-01-19\n",
            "9   2017-01-18\n",
            "Name: Date, dtype: datetime64[ns]\n"
          ]
        }
      ]
    },
    {
      "cell_type": "code",
      "source": [
        "\n"
      ],
      "metadata": {
        "id": "f3yBBxmdwoh5"
      },
      "execution_count": null,
      "outputs": []
    }
  ],
  "metadata": {
    "colab": {
      "name": "Welcome To Colab",
      "provenance": [],
      "include_colab_link": true
    },
    "kernelspec": {
      "display_name": "Python 3",
      "name": "python3"
    }
  },
  "nbformat": 4,
  "nbformat_minor": 0
}