{
  "cells": [
    {
      "cell_type": "markdown",
      "metadata": {
        "id": "view-in-github",
        "colab_type": "text"
      },
      "source": [
        "<a href=\"https://colab.research.google.com/github/Aditya089081/DATA-SCIENCE-TOOLBOX-PYTHON-PROGRAMMING/blob/main/Numpy_csv.ipynb\" target=\"_parent\"><img src=\"https://colab.research.google.com/assets/colab-badge.svg\" alt=\"Open In Colab\"/></a>"
      ]
    },
    {
      "cell_type": "code",
      "source": [
        "import numpy as np\n",
        "n1 = np.array([10,20,30,40,50])\n",
        "print(n1)"
      ],
      "metadata": {
        "colab": {
          "base_uri": "https://localhost:8080/"
        },
        "id": "r0vXntFDHvmT",
        "outputId": "d2cab8aa-1323-462b-cd78-d5b7323d7e3a"
      },
      "execution_count": null,
      "outputs": [
        {
          "output_type": "stream",
          "name": "stdout",
          "text": [
            "[10 20 30 40 50]\n"
          ]
        }
      ]
    },
    {
      "cell_type": "code",
      "source": [
        "import numpy as np\n",
        "n2 = np.array([[10,20,30,40,50],[60,70,80,90,100]])\n",
        "print(n2)"
      ],
      "metadata": {
        "colab": {
          "base_uri": "https://localhost:8080/"
        },
        "id": "zNSi3VRXMIos",
        "outputId": "58a69d3e-7f19-48b1-9d84-84dffaaecaf4"
      },
      "execution_count": null,
      "outputs": [
        {
          "output_type": "stream",
          "name": "stdout",
          "text": [
            "[[ 10  20  30  40  50]\n",
            " [ 60  70  80  90 100]]\n"
          ]
        }
      ]
    },
    {
      "cell_type": "code",
      "source": [
        "n3 = np.zeros((3,3),dtype = int)\n",
        "print(n3)"
      ],
      "metadata": {
        "colab": {
          "base_uri": "https://localhost:8080/"
        },
        "id": "nee-80TONVYJ",
        "outputId": "69f6a907-cb56-4eb2-f3fa-afb64a543036"
      },
      "execution_count": null,
      "outputs": [
        {
          "output_type": "stream",
          "name": "stdout",
          "text": [
            "[[0 0 0]\n",
            " [0 0 0]\n",
            " [0 0 0]]\n"
          ]
        }
      ]
    },
    {
      "cell_type": "code",
      "source": [
        "n4 = np.full((3,3),5)\n",
        "print(n4)\n",
        "n5 = np.arange(10,20,2)\n",
        "print(n5)"
      ],
      "metadata": {
        "id": "x6xurk_cRyQc",
        "colab": {
          "base_uri": "https://localhost:8080/"
        },
        "outputId": "af379d58-ca38-450e-d662-0b7f04676d41"
      },
      "execution_count": 16,
      "outputs": [
        {
          "output_type": "stream",
          "name": "stdout",
          "text": [
            "[[5 5 5]\n",
            " [5 5 5]\n",
            " [5 5 5]]\n",
            "[10 12 14 16 18]\n"
          ]
        }
      ]
    },
    {
      "cell_type": "code",
      "source": [
        "n6 = np.array(np.random.randint(1,200,4))\n",
        "print(n6.shape)\n",
        "n6.shape = (2,2)\n",
        "print(n6)"
      ],
      "metadata": {
        "id": "s5yAiWN-SXvP",
        "colab": {
          "base_uri": "https://localhost:8080/"
        },
        "outputId": "5a7b4101-3866-44db-9ea4-e89f12dd65a1"
      },
      "execution_count": 23,
      "outputs": [
        {
          "output_type": "stream",
          "name": "stdout",
          "text": [
            "(4,)\n",
            "[[171 174]\n",
            " [166 141]]\n"
          ]
        }
      ]
    },
    {
      "cell_type": "code",
      "source": [
        "                        # vstack\n",
        "                        # -- join array vertically\n",
        "\n",
        "n7 = np.array([10,20,30,40,50])\n",
        "n8 = np.array([60,70,80,90,100])\n",
        "n9 = np.vstack((n7,n8))\n",
        "print(n9)"
      ],
      "metadata": {
        "colab": {
          "base_uri": "https://localhost:8080/"
        },
        "id": "wVJFkB58UTbn",
        "outputId": "016de8a6-d7e6-4bc3-bea5-e3ddd1992a5d"
      },
      "execution_count": 26,
      "outputs": [
        {
          "output_type": "stream",
          "name": "stdout",
          "text": [
            "[[ 10  20  30  40  50]\n",
            " [ 60  70  80  90 100]]\n"
          ]
        }
      ]
    },
    {
      "cell_type": "code",
      "source": [
        "                          #  hstack\n",
        "                          # join array at horizontally\n",
        "n10 = np.hstack((n7,n8,n1))\n",
        "print(n10)\n"
      ],
      "metadata": {
        "colab": {
          "base_uri": "https://localhost:8080/"
        },
        "id": "9nj54Wa8U8hr",
        "outputId": "c3ac0a23-0226-4722-e57e-72bceebf7283"
      },
      "execution_count": 31,
      "outputs": [
        {
          "output_type": "stream",
          "name": "stdout",
          "text": [
            "[ 10  20  30  40  50  60  70  80  90 100  10  20  30  40  50]\n"
          ]
        }
      ]
    },
    {
      "cell_type": "code",
      "source": [
        "                            # column_stack\n",
        "                            #  -- ek array ek colun ma\n",
        "# n11 = np.column_stack((n7,n8))\n",
        "n11 = np.column_stack((n7,n8,n1))\n",
        "print(n11)"
      ],
      "metadata": {
        "colab": {
          "base_uri": "https://localhost:8080/"
        },
        "id": "mnx4pX3sV8Zc",
        "outputId": "52702f4e-47bf-4856-f01d-2be241a62082"
      },
      "execution_count": 34,
      "outputs": [
        {
          "output_type": "stream",
          "name": "stdout",
          "text": [
            "[[ 10  60  10]\n",
            " [ 20  70  20]\n",
            " [ 30  80  30]\n",
            " [ 40  90  40]\n",
            " [ 50 100  50]]\n"
          ]
        }
      ]
    },
    {
      "cell_type": "code",
      "source": [
        "n12 = np.intersect1d(n7,n8)\n",
        "print(n12)\n",
        "n13 = np.setdiff1d(n7,n8)\n",
        "print(n13)\n",
        "print(np.sum([n7,n8]))\n",
        "# print(np.sum([n7,n8],axis = 0))\n",
        "n7 = n7+1\n",
        "print(n7)"
      ],
      "metadata": {
        "colab": {
          "base_uri": "https://localhost:8080/"
        },
        "id": "OeJVlncwt46P",
        "outputId": "24ae0b4d-df5d-434c-9614-2f35560d0e17"
      },
      "execution_count": 40,
      "outputs": [
        {
          "output_type": "stream",
          "name": "stdout",
          "text": [
            "[]\n",
            "[11 21 31 41 51]\n",
            "555\n",
            "[12 22 32 42 52]\n"
          ]
        }
      ]
    },
    {
      "cell_type": "code",
      "source": [
        "n14 = np.mean(n7)\n",
        "print(n14)\n",
        "n15 = np.median(n7)\n",
        "print(n15)\n",
        "n16 = np.std(n7)\n",
        "print(n16)\n",
        "n17 = np.save(\"my_save\",n7)\n",
        "n18 = np.load(\"my_save.npy\")\n",
        "print(n18)"
      ],
      "metadata": {
        "colab": {
          "base_uri": "https://localhost:8080/"
        },
        "id": "PS_dsqaru66c",
        "outputId": "d631831f-0fed-4cdf-bb0d-c3e23ea97e92"
      },
      "execution_count": 47,
      "outputs": [
        {
          "output_type": "stream",
          "name": "stdout",
          "text": [
            "32.0\n",
            "32.0\n",
            "14.142135623730951\n",
            "[12 22 32 42 52]\n"
          ]
        }
      ]
    }
  ],
  "metadata": {
    "colab": {
      "provenance": [],
      "include_colab_link": true
    },
    "kernelspec": {
      "display_name": "Python 3",
      "name": "python3"
    }
  },
  "nbformat": 4,
  "nbformat_minor": 0
}